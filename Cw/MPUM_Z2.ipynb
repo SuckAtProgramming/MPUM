{
 "cells": [
  {
   "cell_type": "markdown",
   "metadata": {
    "collapsed": true
   },
   "source": [
    "# NumPy - operacje arytmetyczne w Pythonie\n",
    "\n",
    "Standardowe typy danych i procedury Pythona nie nadają się do poważnych zastosowań numerycznych. Konieczne było opracowanie zoptymalizowanych pod względem typowych operacji numerycznych typów danych i procedur. Stworzony został Numerical Python, zwany w skrócie NumPy. Podczas rozwoju tego pakietu kierowano się podejściem zastosowanym w takich językach jak Basis, MATLAB, rodzina języków APL, FORTRAN i innych. Tak więc NumPy jest biblioteką Pythona służącą do obliczeń naukowych. Dostarcza ona listę matematycznych funkcji użytecznych w takich zagadnieniach jak:\n",
    "  \n",
    "  * algebra liniowa,\n",
    "  * transformacje Fouriera,\n",
    "  * generowanie liczb losowych,\n",
    "  * oraz wszystkie operacje na tablicach i macierzach, które są podstawowymi obiektami w Numpy.\n",
    "  \n",
    "Żeby można korzystać z dobrodziejstwa tej biblioteki należy ją zaimportować:"
   ]
  },
  {
   "cell_type": "code",
   "execution_count": 1,
   "metadata": {
    "collapsed": true
   },
   "outputs": [],
   "source": [
    "import numpy\n",
    "# lub\n",
    "import numpy as np "
   ]
  },
  {
   "cell_type": "markdown",
   "metadata": {},
   "source": [
    "## Tworzenie macierzy\n",
    "Do stworzenia tablicy jedno-, dwu- i wielowymiarowej używamy funkcji **array**:"
   ]
  },
  {
   "cell_type": "code",
   "execution_count": null,
   "metadata": {
    "collapsed": false
   },
   "outputs": [],
   "source": [
    "x = np.array([1,2,3]) # tablica jednowymiarowa\n",
    "A = np.array([[1,2,3] , [4,5,6]]) # tablica dwuwymiarowa\n",
    "B = np.array( [[[1,1,1],[1,1,1]], [[2,2,2],[2,2,2]]]) # wielowymiarowa\n",
    "\n",
    "print(x)\n",
    "print(\"\\n \\n\")\n",
    "print(A)\n",
    "print(\"\\n \\n\")\n",
    "print(B)"
   ]
  },
  {
   "cell_type": "markdown",
   "metadata": {},
   "source": [
    "Przy tworzeniu tablicy istnieje możliwość zadeklarowania jej typu:"
   ]
  },
  {
   "cell_type": "code",
   "execution_count": null,
   "metadata": {
    "collapsed": false
   },
   "outputs": [],
   "source": [
    "z = np.array( [[1,0], [0,1]], dtype=complex) # tablica liczb zespolonych\n",
    "print(z) "
   ]
  },
  {
   "cell_type": "markdown",
   "metadata": {},
   "source": [
    "Do tworzenia tablicy jednowymiarowej (wektora) składającego się z elementów z danego zakresu używamy polecenia **arange(start, stop, krok)**:"
   ]
  },
  {
   "cell_type": "code",
   "execution_count": null,
   "metadata": {
    "collapsed": false
   },
   "outputs": [],
   "source": [
    "print(np.arange(10), end='\\n \\n')\n",
    "print(np.arange(0, 10, 2), end='\\n \\n')\n",
    "print(np.arange(0., 10, 0.5))"
   ]
  },
  {
   "cell_type": "markdown",
   "metadata": {},
   "source": [
    "Jeśli chcemy wygenerować tablicę o określonej liczbie z danego przedziału, używamy funkcji **linspace**:"
   ]
  },
  {
   "cell_type": "code",
   "execution_count": null,
   "metadata": {
    "collapsed": false
   },
   "outputs": [],
   "source": [
    "print(np.linspace(0., 10., 3.), end='\\n \\n')\n",
    "print(np.linspace(0., 1, 5) )"
   ]
  },
  {
   "cell_type": "markdown",
   "metadata": {},
   "source": [
    "Biblioteka Numpy oferuje wiele możliwości budowania typowych tablic:"
   ]
  },
  {
   "cell_type": "code",
   "execution_count": null,
   "metadata": {
    "collapsed": false
   },
   "outputs": [],
   "source": [
    "print(np.ones((3,3)), '\\n') # dwuwymiarowa tablica (3x3) wypełniona jedynkami\n",
    "print(np.zeros((3,2)), '\\n') # dwuwymiarowa tablica (3x2) wypełniona zerami\n",
    "print(np.eye(4)) # macierz jednostkowa 4x4"
   ]
  },
  {
   "cell_type": "markdown",
   "metadata": {},
   "source": [
    "Korzystając z powyższych funkcji możemy w łatwy sposób tworzyć dowolne macierze, zmieniając ich rozmiary."
   ]
  },
  {
   "cell_type": "code",
   "execution_count": null,
   "metadata": {
    "collapsed": false
   },
   "outputs": [],
   "source": [
    "print(np.arange(15).reshape(5,3), '\\n')\n",
    "print(np.linspace(0., 1, 15).reshape(5,3))"
   ]
  },
  {
   "cell_type": "markdown",
   "metadata": {},
   "source": [
    "# Operacje na indeksach tablicy\n",
    "Żeby odwołać się do konkretnej wartości tablicy należy użyć **[]** z odpowiednim indeksem (pamiętamy, że w Pythonie zaczynamy indeksować od 0)."
   ]
  },
  {
   "cell_type": "code",
   "execution_count": null,
   "metadata": {
    "collapsed": false
   },
   "outputs": [],
   "source": [
    "x = np.arange(15)\n",
    "print(x, '\\n')\n",
    "print(x[3], '\\n')\n",
    "\n",
    "A = np.arange(20).reshape(5,4)\n",
    "print(A, '\\n')\n",
    "print(A[2, 3])\n",
    "print(A[2][3], '\\n') # równoważnie\n",
    "print(A[2], '\\n') # trzeci wiersz\n",
    "print(A[:, 2]) # trzecia kolumna"
   ]
  },
  {
   "cell_type": "markdown",
   "metadata": {},
   "source": [
    "Aby wyświetlić fragment tablicy od  $n-1$  do  $m-1$  elementów używamy składni: **tablica[n:m]**, analogicznie aby wyświetlić elementy tablicy pomiędzy  $n-1$ , a  $m-1$  przesuwając się o wartość  $k$  używamy składni **tablica[n:m:k]**. \n"
   ]
  },
  {
   "cell_type": "code",
   "execution_count": null,
   "metadata": {
    "collapsed": false
   },
   "outputs": [],
   "source": [
    "x = np.arange(15)\n",
    "print(x, '\\n')\n",
    "print(x[3:11])\n",
    "print(x[3:11:2], '\\n')\n",
    "\n",
    "A = np.arange(20).reshape(5,4)\n",
    "print(A[2:4], '\\n') # wiersze od trzeciego do czwartego\n",
    "print(A[:,2:4], '\\n') # trzecia i czwarta kolumnę\n",
    "print(A[:,[2,3]]) # równoważnie"
   ]
  },
  {
   "cell_type": "markdown",
   "metadata": {},
   "source": [
    "Jak widać z powyższych przykładów, przecinek w nawiasach **[]** rozdziela poszczególne wymiary tablic."
   ]
  },
  {
   "cell_type": "code",
   "execution_count": null,
   "metadata": {
    "collapsed": false
   },
   "outputs": [],
   "source": [
    "print(A[1,1:5], '\\n') # elementy z drugiego wiersza i od drugiej do piątej kolumny \n",
    "print(A[1:3, :2], '\\n') # elementy od drugiego do trzeciego wiersza, \n",
    "                 # znajdujące się w kolumnach od pierwszej do drugiej\n",
    "print(A[1,0:5:2]) # elementy drugiego wiersza i kolumny od pierwszej do piątej co dwie"
   ]
  },
  {
   "cell_type": "markdown",
   "metadata": {},
   "source": [
    "Tablice można też budować w oparciu o już istniejące:"
   ]
  },
  {
   "cell_type": "code",
   "execution_count": null,
   "metadata": {
    "collapsed": false
   },
   "outputs": [],
   "source": [
    "A = np.arange(20).reshape(5,4)\n",
    "print(A, '\\n')\n",
    "\n",
    "B = A[2:4, 2:]\n",
    "print(B)"
   ]
  },
  {
   "cell_type": "markdown",
   "metadata": {},
   "source": [
    "# Zmiana rozmiaru, kształtu tablicy\n",
    "Do zmiany rozmiaru tablicy już utworzonej służy funkcja: reshape. Operacja ta nie zmieni zawartości oryginalnej tablicy, pokaże jedynie jej elementy w zadanej postaci."
   ]
  },
  {
   "cell_type": "code",
   "execution_count": null,
   "metadata": {
    "collapsed": false
   },
   "outputs": [],
   "source": [
    "A = np.arange(8)\n",
    "print(A,'\\n')\n",
    "print(A.reshape((2, 4)), '\\n')\n",
    "print(A)"
   ]
  },
  {
   "cell_type": "markdown",
   "metadata": {},
   "source": [
    "Aby zmienić kształt tablicy za pomocą funkcji reshape możemy zrobić tak:"
   ]
  },
  {
   "cell_type": "code",
   "execution_count": null,
   "metadata": {
    "collapsed": false
   },
   "outputs": [],
   "source": [
    "A = np.arange(8)\n",
    "print(A,'\\n')\n",
    "A = A.reshape((2, 4))\n",
    "print(A)"
   ]
  },
  {
   "cell_type": "markdown",
   "metadata": {},
   "source": [
    "lub użyć funkcję **resize**:"
   ]
  },
  {
   "cell_type": "code",
   "execution_count": null,
   "metadata": {
    "collapsed": false
   },
   "outputs": [],
   "source": [
    "A = np.arange(8)\n",
    "print(A,'\\n')\n",
    "A.resize(2, 4)\n",
    "# print A.resize(2, 4), '\\n'\n",
    "print(A)"
   ]
  },
  {
   "cell_type": "markdown",
   "metadata": {},
   "source": [
    "Do sprawdzenia wymiaru tablicy służy funkcja **shape**:"
   ]
  },
  {
   "cell_type": "code",
   "execution_count": null,
   "metadata": {
    "collapsed": false
   },
   "outputs": [],
   "source": [
    "A = np.arange(20).reshape(5,4)\n",
    "print(A.shape, '\\n') # wymiar tablicy\n",
    "print(A.shape[0], '\\n') # pierwszy wymiar\n",
    "print(A.shape[1], '\\n') # drugi wymiar\n",
    "print(A.size) # liczba wszystkich elementów w tablicy "
   ]
  },
  {
   "cell_type": "markdown",
   "metadata": {},
   "source": [
    "Transpozycja macierzy:"
   ]
  },
  {
   "cell_type": "code",
   "execution_count": null,
   "metadata": {
    "collapsed": false
   },
   "outputs": [],
   "source": [
    "A = np.arange(8).reshape(2,4)\n",
    "print(A, '\\n')\n",
    "print(A.T, '\\n')\n",
    "print(np.transpose(A))"
   ]
  },
  {
   "cell_type": "markdown",
   "metadata": {},
   "source": [
    "Podobnie jak przy funkcji reshape aby zachować wynik transpozycji macierzy musimy go przypisać do nowej zmiennej."
   ]
  },
  {
   "cell_type": "code",
   "execution_count": null,
   "metadata": {
    "collapsed": false
   },
   "outputs": [],
   "source": [
    "print(A, '\\n')\n",
    "A = A.T\n",
    "print(A)"
   ]
  },
  {
   "cell_type": "markdown",
   "metadata": {},
   "source": [
    "Podobnie jest z poleceniem **swapaxes(tablica, oś1, oś2)**, które wyświetli zmienione wiersze z kolumnami dla tablicy dwuwymiarowej. Dla wielowymiarowych tablic zmieni ono elementy dla zadanych osi."
   ]
  },
  {
   "cell_type": "code",
   "execution_count": null,
   "metadata": {
    "collapsed": false
   },
   "outputs": [],
   "source": [
    "x = np.array([[1,2,3]])\n",
    "print(x, '\\n')\n",
    "print(np.swapaxes(x,0,1), '\\n')\n",
    "\n",
    "x = np.array([[[0,1],[2,3]],[[4,5],[6,7]]])\n",
    "print(x, '\\n')\n",
    "print(np.swapaxes(x, 0, 2))"
   ]
  },
  {
   "cell_type": "markdown",
   "metadata": {},
   "source": [
    "Aby zmienić tablicę na jednowymiarową, możemy użyć polecenia:"
   ]
  },
  {
   "cell_type": "code",
   "execution_count": null,
   "metadata": {
    "collapsed": false
   },
   "outputs": [],
   "source": [
    "A = np.arange(8).reshape(2,4)\n",
    "print(A, '\\n')\n",
    "print(np.ravel(A), '\\n')\n",
    "print(A.reshape(-1,))"
   ]
  },
  {
   "cell_type": "markdown",
   "metadata": {},
   "source": [
    "# Podstawowe operacje na tablicach\n",
    "\n",
    "  * dodawanie:"
   ]
  },
  {
   "cell_type": "code",
   "execution_count": null,
   "metadata": {
    "collapsed": false
   },
   "outputs": [],
   "source": [
    "x = np.array([1,4,6,2,5])\n",
    "v = np.arange(5)\n",
    "print(x+v)\n",
    "print(np.add(x, v), '\\n') # równoważnie\n",
    "print(x+1, '\\n')\n",
    "\n",
    "A = np.arange(15, 30).reshape((5, 3))\n",
    "B = np.arange(15).reshape((5, 3))\n",
    "print(A+B)\n",
    "print(np.add(A, B), '\\n')\n",
    "print(A+5, '\\n')\n",
    "\n",
    "x = np.array([1,2,3])\n",
    "print(A, '\\n')\n",
    "print(x, '\\n')\n",
    "print(np.add(A, x)) # dodawanie do każdego wiersza wektora x"
   ]
  },
  {
   "cell_type": "markdown",
   "metadata": {},
   "source": [
    "* odejmowanie:"
   ]
  },
  {
   "cell_type": "code",
   "execution_count": null,
   "metadata": {
    "collapsed": false
   },
   "outputs": [],
   "source": [
    "x = np.array([1,4,6,2,5])\n",
    "v = np.arange(5)\n",
    "print(x-v)\n",
    "print(np.subtract(x, v), '\\n') # równoważnie\n",
    "print(x-1)\n",
    "\n",
    "A = np.arange(15, 30).reshape((5, 3))\n",
    "B = np.arange(15).reshape((5, 3))\n",
    "print(A-B)\n",
    "print(np.subtract(A, B), '\\n')\n",
    "print(A-1, '\\n')\n",
    "\n",
    "x = np.array([1,2,3])\n",
    "print(np.subtract(A, x)) # odjęcie od każdego wiersza wektora x"
   ]
  },
  {
   "cell_type": "markdown",
   "metadata": {},
   "source": [
    "* mnożenie:"
   ]
  },
  {
   "cell_type": "code",
   "execution_count": null,
   "metadata": {
    "collapsed": false
   },
   "outputs": [],
   "source": [
    "x = np.array([1,4,6,2,5])\n",
    "v = np.arange(5)\n",
    "print(x*5, '\\n')\n",
    "print(np.dot(x,v), '\\n') # iloczyn skalarny\n",
    "print(x*v, '\\n' )# to nie, mnożony jest element przez element! \n",
    "\n",
    "A = np.array([[1, 3], [0, 6]])\n",
    "print(A*5, '\\n')\n",
    "\n",
    "B = np.array([[-2, 6], [8, -2]])\n",
    "print(np.dot(A, B), '\\n')\n",
    "print(A*B) # to nie, mnożony jest element przez element! "
   ]
  },
  {
   "cell_type": "markdown",
   "metadata": {},
   "source": [
    "NumPy ma możliwość deklarowania macierzy, różnią się one w tym środowisku od tablic tym, że operacja mnożenia nie dotyczy mnożenia elementów, tylko klasycznego mnożenia macierzy:"
   ]
  },
  {
   "cell_type": "code",
   "execution_count": null,
   "metadata": {
    "collapsed": false
   },
   "outputs": [],
   "source": [
    "A = np.matrix( ((2,3), (3, 5)) )\n",
    "B = np.matrix( ((1,2), (5, -1)) )\n",
    "\n",
    "print(A * B, '\\n')\n",
    "print(np.dot(A, B))"
   ]
  },
  {
   "cell_type": "markdown",
   "metadata": {},
   "source": [
    "  * potęgowanie:"
   ]
  },
  {
   "cell_type": "code",
   "execution_count": null,
   "metadata": {
    "collapsed": false
   },
   "outputs": [],
   "source": [
    "x = np.array([1,4,6,2,5])\n",
    "print(x, '\\n')\n",
    "\n",
    "print(x**2)\n",
    "print(np.power(x, 2), '\\n') # równoważnie\n",
    "\n",
    "A = np.arange(9).reshape((3, 3))\n",
    "print(A, '\\n')\n",
    "print(A**2, '\\n') # kwadrat elementów tablicy\n",
    "print(np.power(A, 2)) # równoważnie"
   ]
  },
  {
   "cell_type": "markdown",
   "metadata": {},
   "source": [
    "Więcej funkcji można znaleźć tutaj: [https://docs.scipy.org/doc/numpy/reference/routines.math.html]."
   ]
  },
  {
   "cell_type": "markdown",
   "metadata": {},
   "source": [
    "## Porównania elementów tablic"
   ]
  },
  {
   "cell_type": "code",
   "execution_count": null,
   "metadata": {
    "collapsed": false
   },
   "outputs": [],
   "source": [
    "A = np.arange(5, 20).reshape((5, 3))\n",
    "B = np.arange(15).reshape((5, 3))\n",
    "\n",
    "print(A < B, '\\n')\n",
    "print(A == A, '\\n')\n",
    "print(A == 17, '\\n')\n",
    "print(np.any( A > 17 ), '\\n') # prawdziwe, jeśli każdy element z osobna spełnia warunek \n",
    "print(np.all( A > 17 )) # prawdziwe jeśli wszystkie elementy spełniają warunek"
   ]
  },
  {
   "cell_type": "markdown",
   "metadata": {},
   "source": [
    "## Łączenie i dzielenie tablic\n",
    "Biblioteka <i>NumPy</i> daje nam narzędzia dzięki, którym możemy łączyć i dzielić tablice. Zaczniemy od omówienia problemu łączenia tablic:"
   ]
  },
  {
   "cell_type": "code",
   "execution_count": null,
   "metadata": {
    "collapsed": false
   },
   "outputs": [],
   "source": [
    "x = np.array([[1, 2], [3, 4]])\n",
    "y = np.array([[5, 6]])\n",
    "\n",
    "print(x, '\\n')\n",
    "print(y, '\\n')\n",
    "\n",
    "# łączenie wierszowe\n",
    "print(np.concatenate((x, y), axis=0), '\\n')\n",
    "print(np.vstack((x,y)), '\\n')\n",
    "\n",
    "# łączenie kolumnowe\n",
    "print(np.concatenate((x,y.T), axis=1), '\\n')\n",
    "print(np.hstack((x,y.T)))"
   ]
  },
  {
   "cell_type": "markdown",
   "metadata": {},
   "source": [
    "## Wybrane metody z algebry linowej\n",
    "Do części funkcji typowych dla algebry liniowej możemy się odwołać po zaimportowaniu biblioteki **linalg** będącej integralną częścią biblioteki NumPy."
   ]
  },
  {
   "cell_type": "code",
   "execution_count": 2,
   "metadata": {
    "collapsed": true
   },
   "outputs": [],
   "source": [
    "import numpy.linalg as alg "
   ]
  },
  {
   "cell_type": "markdown",
   "metadata": {},
   "source": [
    "Można tam znaleźć funkcję obliczającą:\n",
    "\n",
    "* macierz odwrotną:"
   ]
  },
  {
   "cell_type": "code",
   "execution_count": null,
   "metadata": {
    "collapsed": false
   },
   "outputs": [],
   "source": [
    "A = np.array([[1., 2.], [3., 4.]])\n",
    "invA = alg.inv(A)\n",
    "print(invA, '\\n')\n",
    "print(np.dot(A, invA))"
   ]
  },
  {
   "cell_type": "markdown",
   "metadata": {},
   "source": [
    "  * wyznacznik:"
   ]
  },
  {
   "cell_type": "code",
   "execution_count": null,
   "metadata": {
    "collapsed": false
   },
   "outputs": [],
   "source": [
    "print(A, '\\n')\n",
    "print(alg.det(A))"
   ]
  },
  {
   "cell_type": "markdown",
   "metadata": {},
   "source": [
    "  * ślad:"
   ]
  },
  {
   "cell_type": "code",
   "execution_count": null,
   "metadata": {
    "collapsed": false
   },
   "outputs": [],
   "source": [
    "print(A, '\\n')\n",
    "print(np.trace(A))"
   ]
  },
  {
   "cell_type": "markdown",
   "metadata": {},
   "source": [
    "  * normę dla macierz lub wektora:"
   ]
  },
  {
   "cell_type": "code",
   "execution_count": null,
   "metadata": {
    "collapsed": false
   },
   "outputs": [],
   "source": [
    "print(alg.norm(A), '\\n') # Euklidesowa\n",
    "print(alg.norm(A, 'fro'), '\\n') # Frobeniusa\n",
    "print(alg.norm(A, np.inf), '\\n') # maksimum\n",
    "\n",
    "print(alg.norm(A, axis=0), '\\n') # wierszy\n",
    "print(alg.norm(A, axis=1), '\\n') # kolumn"
   ]
  },
  {
   "cell_type": "markdown",
   "metadata": {},
   "source": [
    "  * rozwiązywanie układów równań:"
   ]
  },
  {
   "cell_type": "code",
   "execution_count": null,
   "metadata": {
    "collapsed": false
   },
   "outputs": [],
   "source": [
    "# 4*x_1 + x_2 = 10\n",
    "# 3*x_1 = 7\n",
    "A = np.array([[4,1], [3,0]])\n",
    "b = np.array([10,7])\n",
    "print(np.linalg.solve(A, b))"
   ]
  },
  {
   "cell_type": "markdown",
   "metadata": {},
   "source": [
    "## Statystyka\n",
    "<i>NumPy</i> oferuje dużo możliwości generacji liczb losowych. Poniżej podaję niektóre z nich, więcej można znaleźć tutaj:\n",
    "[https://docs.scipy.org/doc/numpy/reference/routines.random.html]"
   ]
  },
  {
   "cell_type": "code",
   "execution_count": null,
   "metadata": {
    "collapsed": false
   },
   "outputs": [],
   "source": [
    "# macierz losowa 3x2 (liczby z przedziału [0, 1)) \n",
    "print(np.random.rand(3,2), '\\n')\n",
    "\n",
    "# macierz losowa 2x3 o elementach z rozkładu N(mu, sigma^2) = N(1, 4)\n",
    "print(2 * np.random.randn(2, 3) + 1, '\\n')\n",
    "\n",
    "# macierz losowa 3x3 o elementach całkowitych z przedziału [0, 5)\n",
    "print(np.random.randint(5, size=(3, 3)), '\\n')\n",
    "\n",
    "# losowe wybranie 3 liczb z [0, 1, 2, 3, 4]\n",
    "print(np.random.choice(5, 3, replace=False), '\\n')\n",
    "\n",
    "# rozkład wykładniczy (scale = 1/lambda)\n",
    "print(numpy.random.exponential(scale=1.0, size=(2, 3)), '\\n')\n",
    "\n",
    "# rozkład geometryczny\n",
    "print(np.random.geometric(p=0.35, size=(2,4)), '\\n')\n",
    "\n",
    "# rozkład normalny N(mu, sigma)\n",
    "print(np.random.normal(0.0, 1, size=7), '\\n')\n",
    "\n",
    "# rozkład Poissona\n",
    "print(np.random.poisson(5, 10), '\\n')\n",
    "\n",
    "# rozkład wielowymiarowy rozkład normalny\n",
    "mean = [5, -5]\n",
    "cov = [[10, -6], [-6, 5]]\n",
    "print(np.random.multivariate_normal(mean, cov, 7), '\\n')"
   ]
  },
  {
   "cell_type": "markdown",
   "metadata": {},
   "source": [
    "Proste statystyki:"
   ]
  },
  {
   "cell_type": "code",
   "execution_count": null,
   "metadata": {
    "collapsed": false
   },
   "outputs": [],
   "source": [
    "x = np.random.normal(2.0, 2.5, size=7)\n",
    "\n",
    "print(x.max(),'\\n') #maksymalna wartość\n",
    "\n",
    "print(x.min(),'\\n') # minimalna wartość \n",
    "\n",
    "print(x.sum(),'\\n') # suma wszystkich elementów \n",
    "\n",
    "print(x.prod(),'\\n') # iloczyn wszystkich elementów \n",
    "\n",
    "print(x.mean()) # średnia z wszystkich elementów\n",
    "print(np.mean(x),'\\n')\n",
    "\n",
    "print(np.median(x),'\\n') # mediana\n",
    "\n",
    "print(x.std()) # odchylenie standardowe \n",
    "print(np.std(x),'\\n')\n",
    "\n",
    "print(x.var()) # wariancja\n",
    "print(np.var(x))"
   ]
  },
  {
   "cell_type": "markdown",
   "metadata": {},
   "source": [
    "# Zadanie 1\n",
    "Wygeneruj losową tablice 100 x 10, która będzie reprezentować 100 punktów w 10 wymiarowej przestrzeni. Napisz funkcję, która policzy odległość euklidesową pomiędzy każdą parą punktów, czy potrafisz zrobić to w jednej linijce, bez użycia żadnych pętli/wytworników pętli? Przypomnienie, dla dwóch wektorów  xx  i  yy  odległość euklidesową liczymy ze wzoru: \n",
    "\n",
    "$$\n",
    "d(x,y)=\\|x-y\\|_2^2=\\sum_{i=1}^n |x_i-y_i|^2.\n",
    "$$"
   ]
  },
  {
   "cell_type": "code",
   "execution_count": null,
   "metadata": {
    "collapsed": false
   },
   "outputs": [],
   "source": []
  },
  {
   "cell_type": "markdown",
   "metadata": {},
   "source": [
    "# Zadanie 2\n",
    "\n",
    "Wygeneruj losową tablicę z wielowymiarowego rozkładu normalnego (procedura random.multivariate_normal), która będzie reprezentować 100 punktów w 5 wymiarowej przestrzeni. Napisz funkcję do \"wybielania\" zbioru punktów (zrób to w jednej linijce, bez użycia pętli):\n",
    "\n",
    "$$\n",
    "x_{ij} = \\frac{x_{ij}-\\mu_j}{\\sigma_j},\n",
    "$$\n",
    "\n",
    "gdzie  $μ_j$  to średnia, a  $σ_j$  to odchylenie standardowe po  $j$-tej kolumnie, zaś  $x_{ij}$  to  $j$-ta współrzędna  $i$ -tego wektora.\n",
    "\n",
    "Policz średnią i macierz kowariancji tak przekształconych danych. Co zaobserwowałeś?"
   ]
  },
  {
   "cell_type": "code",
   "execution_count": null,
   "metadata": {
    "collapsed": true
   },
   "outputs": [],
   "source": []
  },
  {
   "cell_type": "markdown",
   "metadata": {},
   "source": [
    "# Zadanie 3\n",
    "\n",
    "Wypełni 100-elementową tablicę liczbami losowymi naturalnymi z zakresu  $[5,15]$  i policz liczbę wystąpień tych liczb. Która z tych liczb najczęściej występuje w tak wygenerowanej tablicy?\n",
    "Wskazówka: zobacz funkcje: bincount, argmax."
   ]
  },
  {
   "cell_type": "code",
   "execution_count": null,
   "metadata": {
    "collapsed": false
   },
   "outputs": [],
   "source": []
  },
  {
   "cell_type": "markdown",
   "metadata": {},
   "source": [
    "# Zadanie 4\n",
    "\n",
    "Korzystając z poniższego kodu zaimportuj dane **breast cancer**, który składa się z 2 elementów: macierzy  $X$  o wymiarach 569 x 30 oraz wektora  $y$ o długości 569. Macierz  $X$  opisuje badania 683 pacjentów, a wektor  $y$  ich diagnozy."
   ]
  },
  {
   "cell_type": "code",
   "execution_count": null,
   "metadata": {
    "collapsed": false
   },
   "outputs": [],
   "source": [
    "from sklearn.datasets import load_breast_cancer\n",
    "X, y  = load_breast_cancer(return_X_y=True)\n",
    "print(X.shape)\n",
    "print(y.shape)"
   ]
  },
  {
   "cell_type": "markdown",
   "metadata": {},
   "source": [
    "Za pomocą biblioteki **numpy** przenumeruj wektor  $y$ , tzn zamień wartości $0$ i $1$ na $-1$ i $+1$. Przeskaluj macierz  $X$ , tak żeby wartości w każdej kolumnie mieściły się w zakresie  $[0,1]$ , innymi słowy przeskaluj niezależnie każdą kolumnę  $X_i$  według poniższej procedury: \n",
    "\n",
    "$$\n",
    "X_i=\\frac{X_i-min(X_i)}{max(X_i)-min(X_i)}.\n",
    "$$"
   ]
  },
  {
   "cell_type": "code",
   "execution_count": null,
   "metadata": {
    "collapsed": false
   },
   "outputs": [],
   "source": []
  },
  {
   "cell_type": "markdown",
   "metadata": {},
   "source": [
    "# Biblioteka Pandas\n",
    "\n",
    "**Pandas** jest darmową biblioteką języka Python, która służy do analizy danych. Zawiera łatwe w użyciu struktury i narzędzia do analizy danych spotykane w języku R.\n",
    "\n",
    "Biblioteka ta pozwala między innymi na:\n",
    "  \n",
    "  * tworzenie własnych danych w odpowiednich strukturach,\n",
    "  * importowanie i eksportowanie danych do różnych plików,\n",
    "  * przygotowanie danych do analizy (pozbycie się anomalii w danych, np. brakujących wartości),\n",
    "  * analizę danych,\n",
    "  * prezentację danych.\n",
    "\n",
    "Do instalacji tej biblioteki można użyć procedury **pip** albo **conda** [http://pandas.pydata.org/pandas-docs/stable/install.html]"
   ]
  },
  {
   "cell_type": "markdown",
   "metadata": {},
   "source": [
    "Aby skorzystać z biblioteki pandas należy ją wcześniej zaimportować, np.:"
   ]
  },
  {
   "cell_type": "code",
   "execution_count": 3,
   "metadata": {
    "collapsed": false
   },
   "outputs": [
    {
     "name": "stdout",
     "output_type": "stream",
     "text": [
      "0.20.3\n"
     ]
    }
   ],
   "source": [
    "# import pandas\n",
    "import pandas as pd\n",
    "\n",
    "print(pd.__version__) # wersja biblioteki\n",
    "%matplotlib inline"
   ]
  },
  {
   "cell_type": "markdown",
   "metadata": {},
   "source": [
    "## Struktury danych\n",
    "\n",
    "Biblioteka pandas wprowadza dwie nowe struktury danych do Pythona: **Series** i **DataFrame**.\n",
    "\n",
    "1. **Serie**\n",
    "\n",
    "Seria to jednowymiarowy obiekt podobny do tablicy, listy, który może zawierać różnego rodzaju dane (liczby całkowite, zmiennoprzecinkowe, ciągi, obiekty Pythona, itd.). Każdy element serii ma przypisany indeks/etykietę (domyślnie od 0 do N, gdzie N jest długość serii minus 1)."
   ]
  },
  {
   "cell_type": "code",
   "execution_count": null,
   "metadata": {
    "collapsed": false
   },
   "outputs": [],
   "source": [
    "from pandas import Series, DataFrame\n",
    "\n",
    "s = pd.Series([7, 'Heisenberg', 3.14, -1789710578, 'Happy Eating!'])\n",
    "print(s)"
   ]
  },
  {
   "cell_type": "markdown",
   "metadata": {},
   "source": [
    "Alternatywnie, można zdefiniować indeksy elementów serii w trakcje jej definicji:"
   ]
  },
  {
   "cell_type": "code",
   "execution_count": null,
   "metadata": {
    "collapsed": false
   },
   "outputs": [],
   "source": [
    "import numpy as np\n",
    "\n",
    "# Series(dane, index=indeks)\n",
    "s = Series(np.random.randn(5), index=['a', 'b', 'c', 'i', 'e'])\n",
    "print(s)"
   ]
  },
  {
   "cell_type": "markdown",
   "metadata": {},
   "source": [
    "Konstruktor **Series** może przetwarzać słowniki Pythona:"
   ]
  },
  {
   "cell_type": "code",
   "execution_count": null,
   "metadata": {
    "collapsed": false
   },
   "outputs": [],
   "source": [
    "d = {'a' : 0., 'b' : 1., 'c' : 2.}\n",
    "print(Series(d))"
   ]
  },
  {
   "cell_type": "code",
   "execution_count": null,
   "metadata": {
    "collapsed": false
   },
   "outputs": [],
   "source": [
    "print(Series(d, index=['b', 'c', 'd', 'a']))"
   ]
  },
  {
   "cell_type": "code",
   "execution_count": null,
   "metadata": {
    "collapsed": false
   },
   "outputs": [],
   "source": [
    "print(Series(1, index=['a', 'b', 'c', 'd', 'e']), '\\n')\n",
    "print(Series(1., index=['a', 'b', 'c', 'd', 'e']))"
   ]
  },
  {
   "cell_type": "markdown",
   "metadata": {},
   "source": [
    "## 1.1 Odwoływanie się do elementów serii\n",
    "\n",
    "Struktura Series działa jak tablica. Można odwołać się do poszczególnego elementu serii za pomocą indeksu, używać logicznego indeksowania, itd.:"
   ]
  },
  {
   "cell_type": "code",
   "execution_count": null,
   "metadata": {
    "collapsed": false
   },
   "outputs": [],
   "source": [
    "s = Series(np.random.randn(5), index=['a', 'b', 'c', 'i', 'e'])\n",
    "print(s, '\\n')\n",
    "\n",
    "print(s[0], s[3])"
   ]
  },
  {
   "cell_type": "code",
   "execution_count": null,
   "metadata": {
    "collapsed": false
   },
   "outputs": [],
   "source": [
    "print(s[s > 0.5], '\\n')\n",
    "print(s[s > s.mean()])"
   ]
  },
  {
   "cell_type": "markdown",
   "metadata": {},
   "source": [
    "## 1.2 Zmiana wartości wybranych elementów"
   ]
  },
  {
   "cell_type": "code",
   "execution_count": null,
   "metadata": {
    "collapsed": false
   },
   "outputs": [],
   "source": [
    "s = Series(np.random.randn(5), index=['a', 'b', 'c', 'i', 'e'])\n",
    "print(s, '\\n')\n",
    "print(\"stara wartosc:\",  s[0])\n",
    "s[0] = 10. \n",
    "print(\"nowa wartosc:\",  s[0], '\\n')\n",
    "\n",
    "print(\"stara wartosc:\",  s['b'])\n",
    "s['b'] = 15. \n",
    "print(\"nowa wartosc:\",  s['b'])"
   ]
  },
  {
   "cell_type": "code",
   "execution_count": null,
   "metadata": {
    "collapsed": false
   },
   "outputs": [],
   "source": [
    "s = Series(np.random.randn(5), index=['a', 'b', 'c', 'i', 'e'])\n",
    "print(\"stare:\\n\",  s, '\\n')\n",
    "s[s < s.mean()] = 1\n",
    "print(\"nowe:\\n\",  s)"
   ]
  },
  {
   "cell_type": "markdown",
   "metadata": {},
   "source": [
    "## 1.5 Niezdefiniowane wartości, obiekty"
   ]
  },
  {
   "cell_type": "code",
   "execution_count": null,
   "metadata": {
    "collapsed": false
   },
   "outputs": [],
   "source": [
    "cities = Series({'Chicago': 1000, 'New York': 1300, 'Portland': 900,\n",
    "                 'San Francisco': 1100, 'Austin': 450, 'Boston': None})\n",
    "print(cities, '\\n')\n",
    "\n",
    "print('Seattle' in cities)\n",
    "print('San Francisco' in cities)"
   ]
  },
  {
   "cell_type": "code",
   "execution_count": null,
   "metadata": {
    "collapsed": false
   },
   "outputs": [],
   "source": [
    "print(cities, '\\n')\n",
    "print(cities.notnull()) # które są zdefiniowane"
   ]
  },
  {
   "cell_type": "code",
   "execution_count": null,
   "metadata": {
    "collapsed": false
   },
   "outputs": [],
   "source": [
    "print(cities.isnull()) # które nie są zdefiniowane"
   ]
  },
  {
   "cell_type": "code",
   "execution_count": null,
   "metadata": {
    "collapsed": false
   },
   "outputs": [],
   "source": [
    "print(cities[cities.isnull()]) # tylko te które nie są zdefiniowane \n",
    "cities[cities.isnull()] = 1\n",
    "print() \n",
    "print(cities.isnull())\n",
    "print()\n",
    "print(cities)"
   ]
  },
  {
   "cell_type": "markdown",
   "metadata": {},
   "source": [
    "# 2. DataFrame\n",
    "\n",
    "<i>DataFrame</i> to struktura danych składa się z wierszy i kolumn, podobna do arkusza kalkulacyjnego, baz danych, tabeli 2-wymiarowej lub data.frame obiektu z języka R.\n",
    "\n",
    "Poniżej przedstawiam kilka sposobów definiowania struktury DataFrame:\n",
    "\n",
    "  * ze słownika list/tablic"
   ]
  },
  {
   "cell_type": "code",
   "execution_count": null,
   "metadata": {
    "collapsed": false
   },
   "outputs": [],
   "source": [
    "d = {'one' : [1., 2., 3., 4.],\n",
    "     'two' : [4., 3., 2., 1.]}\n",
    "print(DataFrame(d))\n",
    "DataFrame(d)"
   ]
  },
  {
   "cell_type": "code",
   "execution_count": null,
   "metadata": {
    "collapsed": false
   },
   "outputs": [],
   "source": [
    "data = {'year': [2010, 2011, 2012, 2011, 2012, 2010, 2011, 2012],\n",
    "        'team': ['Bears', 'Bears', 'Bears', 'Packers', 'Packers', 'Lions', 'Lions', 'Lions'],\n",
    "        'wins': [11, 8, 10, 15, 11, 6, 10, 4],\n",
    "        'losses': [5, 8, 6, 1, 5, 10, 6, 12]}\n",
    "football = pd.DataFrame(data, columns=['year', 'team', 'wins', 'losses'])\n",
    "football"
   ]
  },
  {
   "cell_type": "markdown",
   "metadata": {},
   "source": [
    "## 2.1 Podstawowe informacje\n",
    "Biblioteka pandas ma wiele funkcji, które dostarczają nam podstawowej informacji na DataFrame. Jedną z takich funkcji jest metoda **info**."
   ]
  },
  {
   "cell_type": "code",
   "execution_count": null,
   "metadata": {
    "collapsed": false
   },
   "outputs": [],
   "source": [
    "data = [{'a': 1, 'b': 2}, \n",
    "         {'a': 5, 'b': 10, 'c': 20}]\n",
    "df = DataFrame(data)\n",
    "\n",
    "df.info()"
   ]
  },
  {
   "cell_type": "markdown",
   "metadata": {},
   "source": [
    "## 2.2 Wybieranie rekordów, kolumn, elementów\n",
    "\n",
    "Jak już wspomniałem strukturę DataFrame możemy traktować jako grupę/tablicę serii, które dzielą indeks (w tym przypadku nagłówki kolumn). Dzięki temu możemy w łatwy sposób wybrać konkretne rekordy."
   ]
  },
  {
   "cell_type": "code",
   "execution_count": null,
   "metadata": {
    "collapsed": false
   },
   "outputs": [],
   "source": [
    "data = {'year': [2010, 2011, 2012, 2011, 2012, 2010, 2011, 2012],\n",
    "        'team': ['Bears', 'Bears', 'Bears', 'Packers', 'Packers', 'Lions', 'Lions', 'Lions'],\n",
    "        'wins': [11, 8, 10, 15, 11, 6, 10, 4],\n",
    "        'losses': [5, 8, 6, 1, 5, 10, 6, 12]}\n",
    "football = pd.DataFrame(data, columns=['year', 'team', 'wins', 'losses'])\n",
    "print (football)\n",
    "\n",
    "football.head(3)"
   ]
  },
  {
   "cell_type": "code",
   "execution_count": null,
   "metadata": {
    "collapsed": false
   },
   "outputs": [],
   "source": [
    "football['year'].head(4)"
   ]
  },
  {
   "cell_type": "code",
   "execution_count": null,
   "metadata": {
    "collapsed": false
   },
   "outputs": [],
   "source": [
    "football.tail(3)"
   ]
  },
  {
   "cell_type": "markdown",
   "metadata": {},
   "source": [
    "Możemy też modyfikować DataFrame na podstawie wybranej kolumny."
   ]
  },
  {
   "cell_type": "code",
   "execution_count": null,
   "metadata": {
    "collapsed": false
   },
   "outputs": [],
   "source": [
    "football.set_index('team')"
   ]
  },
  {
   "cell_type": "markdown",
   "metadata": {},
   "source": [
    "Aby wybrać którąś z kolumn należy użyć jej nazwy:"
   ]
  },
  {
   "cell_type": "code",
   "execution_count": null,
   "metadata": {
    "collapsed": false
   },
   "outputs": [],
   "source": [
    "data = {'year': [2010, 2011, 2012, 2011, 2012, 2010, 2011, 2012],\n",
    "        'team': ['Bears', 'Bears', 'Bears', 'Packers', 'Packers', 'Lions', 'Lions', 'Lions'],\n",
    "        'wins': [11, 8, 10, 15, 11, 6, 10, 4],\n",
    "        'losses': [5, 8, 6, 1, 5, 10, 6, 12]}\n",
    "football = pd.DataFrame(data, columns=['year', 'team', 'wins', 'losses'])\n",
    "\n",
    "football['year'] # wybieramy kolumnę 'year'"
   ]
  },
  {
   "cell_type": "code",
   "execution_count": null,
   "metadata": {
    "collapsed": false
   },
   "outputs": [],
   "source": [
    "football.year"
   ]
  },
  {
   "cell_type": "code",
   "execution_count": null,
   "metadata": {
    "collapsed": false
   },
   "outputs": [],
   "source": [
    "football[['year', 'wins']]"
   ]
  },
  {
   "cell_type": "markdown",
   "metadata": {},
   "source": [
    "Do wybierania wierszy/obserwacji służy funkcja **loc** (indeksowanie oparte na etykietach) lub **iloc** (indeksowanie oparte na pozycji)."
   ]
  },
  {
   "cell_type": "code",
   "execution_count": null,
   "metadata": {
    "collapsed": false
   },
   "outputs": [],
   "source": [
    "football.loc[0]"
   ]
  },
  {
   "cell_type": "code",
   "execution_count": null,
   "metadata": {
    "collapsed": false
   },
   "outputs": [],
   "source": [
    "football.loc[[0,3]]"
   ]
  },
  {
   "cell_type": "markdown",
   "metadata": {},
   "source": [
    "# 2.3 Podstawowe operacje na DataFrame"
   ]
  },
  {
   "cell_type": "code",
   "execution_count": null,
   "metadata": {
    "collapsed": false
   },
   "outputs": [],
   "source": [
    "football[football.wins > 10]"
   ]
  },
  {
   "cell_type": "code",
   "execution_count": null,
   "metadata": {
    "collapsed": false
   },
   "outputs": [],
   "source": [
    "football['wins'].max()"
   ]
  },
  {
   "cell_type": "code",
   "execution_count": null,
   "metadata": {
    "collapsed": false
   },
   "outputs": [],
   "source": [
    "football[['wins', 'losses']].mean()"
   ]
  },
  {
   "cell_type": "code",
   "execution_count": null,
   "metadata": {
    "collapsed": false
   },
   "outputs": [],
   "source": [
    "football['wins'] = 0\n",
    "football.at[5, 'losses'] = 0\n",
    "football"
   ]
  },
  {
   "cell_type": "markdown",
   "metadata": {},
   "source": [
    "## 2.6 Importowanie i eksportowanie danych\n",
    "\n",
    "  * eksport to CSV:"
   ]
  },
  {
   "cell_type": "code",
   "execution_count": null,
   "metadata": {
    "collapsed": true
   },
   "outputs": [],
   "source": [
    "data = {'year': [2010, 2011, 2012, 2011, 2012, 2010, 2011, 2012],\n",
    "        'team': ['Bears', 'Bears', 'Bears', 'Packers', 'Packers', 'Lions', 'Lions', 'Lions'],\n",
    "        'wins': [11, 8, 10, 15, 11, 6, 10, 4],\n",
    "        'losses': [5, 8, 6, 1, 5, 10, 6, 12]}\n",
    "football = pd.DataFrame(data, columns=['year', 'team', 'wins', 'losses'])\n",
    "\n",
    "football.to_csv('dane.csv', index=False)"
   ]
  },
  {
   "cell_type": "markdown",
   "metadata": {},
   "source": [
    "  * import z CSV:"
   ]
  },
  {
   "cell_type": "code",
   "execution_count": null,
   "metadata": {
    "collapsed": false
   },
   "outputs": [],
   "source": [
    "pd.read_csv('dane.csv')"
   ]
  },
  {
   "cell_type": "markdown",
   "metadata": {},
   "source": [
    "Więcej informacji na temat biblioteki pandas można znaleźć tutaj: [http://pandas.pydata.org]"
   ]
  },
  {
   "cell_type": "markdown",
   "metadata": {},
   "source": [
    "# Zadanie 5\n",
    "\n",
    "Zaimportuj dane z pliku ,,airports.csv'' i wykonaj na nich poniższe polecenia:\n",
    "\n",
    "  * wybierz nazwy państw ostatnich 12 lotnisk w tabeli,\n",
    "  * wybierz wiersz o indeksie 1 korzystając z indeksera .loc oraz .iloc (porównaj otrzymane wyniki),\n",
    "  * wybierz wszystkie lotniska w Polsce,\n",
    "  * wybierz wszystkie lotniska, których nazwa różni się od nazwy miasta, w którym się znajdują.\n",
    "  * przelicz wartości wysokości na metry i zapisz zmodyfikowaną kolumnę w miejsce starej (w naszej tabeli wysokość jest podana w   * stopach nad poziomem morza; jedna stopa angielska równa się 30,48 cm),\n",
    "  * znajdź wszystkie państwa, w których znajduje się wyłącznie 1 lotnisko (zobacz procedurę .unique())."
   ]
  },
  {
   "cell_type": "code",
   "execution_count": null,
   "metadata": {
    "collapsed": false
   },
   "outputs": [],
   "source": [
    "df=pd.read_csv('airports.csv', header=None)"
   ]
  },
  {
   "cell_type": "code",
   "execution_count": null,
   "metadata": {
    "collapsed": true
   },
   "outputs": [],
   "source": []
  },
  {
   "cell_type": "markdown",
   "metadata": {},
   "source": [
    "# Dane do kolejnych zadań\n",
    "Wczytanie dancyh:\n",
    "\n",
    "  * Powinieneś być w stanie zobaczyć wszystkie kolumny i 10 wierszy danych:\n",
    "  * survival – Survival (0 = No; 1 = Yes)\n",
    "  * pclass – Passenger Class (1 = 1st; 2 = 2nd; 3 = 3rd)\n",
    "  * sex – Sex\n",
    "  * age – Age\n",
    "  * sibsp – Number of Siblings/Spouses Aboard\n",
    "  * parch – Number of Parents/Children Aboard\n",
    "  * ticket – Ticket Number\n",
    "  * fare – Passenger Fare\n",
    "  * cabin – Cabin\n",
    "  * embarked – Port of Embarkation (C = Cherbourg; Q = Queenstown; S = Southampton)\n"
   ]
  },
  {
   "cell_type": "code",
   "execution_count": null,
   "metadata": {
    "collapsed": false
   },
   "outputs": [],
   "source": [
    "df = pd.read_csv('http://stamfordresearch.com/wp-content/uploads/2016/08/Titanic.csv') \n",
    "print(df.shape)\n",
    "df.head()"
   ]
  },
  {
   "cell_type": "code",
   "execution_count": null,
   "metadata": {
    "collapsed": false
   },
   "outputs": [],
   "source": [
    "df.columns"
   ]
  },
  {
   "cell_type": "markdown",
   "metadata": {},
   "source": [
    "# Zadanie 6\n",
    "\n",
    "Usuń kolumny: \"PassengerId\", \"Name\" i \"Ticket\".\n",
    "\n",
    "Powody:\n",
    "\n",
    "  * PassengerId - jest to unikalny numer\n",
    "  * Imię - nie ma wpływu na predykcje\n",
    "  * Bilet - wygląda niechlujnie i jest losowe"
   ]
  },
  {
   "cell_type": "code",
   "execution_count": null,
   "metadata": {
    "collapsed": false
   },
   "outputs": [],
   "source": []
  },
  {
   "cell_type": "markdown",
   "metadata": {},
   "source": [
    "# Następnie musimy spojrzeć na kolumnę Cabin.\n",
    "\n",
    "Następnie musimy spojrzeć na kolumnę Cabin. Będziemy leniwi i zmienimy wartości na Tak lub Nie (w zależności czy posiadał kabinę). Lepszym sposobem na to może być podzielenie opisu tak aby uzyskać pierwszą literę, ponieważ zwykle oznacza ona, na którym pokładzie znajdowała się kabina. Może to być użyteczne przy predykcji (ale my na razie jej nie wykonujemy)."
   ]
  },
  {
   "cell_type": "code",
   "execution_count": null,
   "metadata": {
    "collapsed": false
   },
   "outputs": [],
   "source": [
    "df.loc[df.Cabin.isnull()]"
   ]
  },
  {
   "cell_type": "markdown",
   "metadata": {},
   "source": [
    "# Zadanie 7\n",
    "Utwórz nową kolumną o nazwie HasCabin, która zawiera 1 jeżeli ktoś miał swoją kabinę i 0 jeśli nie."
   ]
  },
  {
   "cell_type": "code",
   "execution_count": null,
   "metadata": {
    "collapsed": false
   },
   "outputs": [],
   "source": []
  },
  {
   "cell_type": "markdown",
   "metadata": {},
   "source": [
    "# Zadanie 8\n",
    "Usuń brakujące wartości"
   ]
  },
  {
   "cell_type": "code",
   "execution_count": null,
   "metadata": {
    "collapsed": false
   },
   "outputs": [],
   "source": []
  },
  {
   "cell_type": "markdown",
   "metadata": {},
   "source": [
    "# Matplotlib - rysowanie wykresów w Pythonie\n",
    "\n",
    "**Matplotlib** jest biblioteką do tworzenia wysokiej jakości wykresów dla języka Python i jego rozszerzenia numerycznego NumPy. Umożliwia prezentację danych w różnych formatach (np. PNG, PDF, XLS). Zapewnia kontrolę nad wyglądem, stylami i właściwościami wykresów, pracę w środowisku interaktywnym, jak i możliwość osadzania wyników w aplikacjach destkopowych czy webowych.\n",
    "\n",
    "Funkcje i narzędzia tej biblioteki są napisane w taki sposób aby jak najbardziej odzwierciedlały metody rysowania wykresów z języka MatLab, dzięki czemu użytkownicy Matlaba w łatwy sposób mogą przenieść się do języka Python.\n",
    "Niektóre zalety korzystania z Pythona, NumPy i matplotlib nad MatLabem:\n",
    "  \n",
    "  * nowoczesny język programowania w pełni funkcjonalny obiektowo, odpowiedni do tworzenia oprogramowania na dużą skalę,\n",
    "  * darmowy (open source),\n",
    "  * wsparcie SVG.\n",
    "\n",
    "Aby skorzystać z biblioteki matplotlib należy ją wcześniej zaimportować, np.:"
   ]
  },
  {
   "cell_type": "code",
   "execution_count": 7,
   "metadata": {
    "collapsed": true
   },
   "outputs": [],
   "source": [
    "import matplotlib.pyplot as plt\n",
    "# from matplotlib import pyplot as plt\n",
    "\n",
    "%matplotlib inline"
   ]
  },
  {
   "cell_type": "markdown",
   "metadata": {},
   "source": [
    "# Pierwszy wykres"
   ]
  },
  {
   "cell_type": "code",
   "execution_count": null,
   "metadata": {
    "collapsed": false
   },
   "outputs": [],
   "source": [
    "plt.plot([1, 5, 2, 7, 4, 1]) # wartości funkcji\n",
    "plt.show()"
   ]
  },
  {
   "cell_type": "code",
   "execution_count": null,
   "metadata": {
    "collapsed": false
   },
   "outputs": [],
   "source": [
    "plt.plot([1, 2, 4, 7], [-1, 3, -2, 10])\n",
    "plt.show()"
   ]
  },
  {
   "cell_type": "markdown",
   "metadata": {},
   "source": [
    "Własności wykresów\n",
    "Za pomocą specjalnych poleceń można też zmieniać właściwości wykresów, takie jak np.: rodzaj linii, kolor, czy też symbole punktów.\n",
    "Rodzaje linii:\n",
    "  \n",
    "  * **\\-** - ciągła,\n",
    "  * **:** - punktowa,\n",
    "  * **-.** - kropka-kreska,\n",
    "  * **--** - kreskowana.\n",
    "\n",
    "Kolory:\n",
    "\n",
    "  * **y** - yellow,\n",
    "  * **m** - magenta,\n",
    "  * **c** - cyan,\n",
    "  * **r** - red,\n",
    "  * **g** - green,\n",
    "  * **b** - blue,\n",
    "  * **w** - white,\n",
    "  * **k** - black.\n",
    "\n",
    "Symbole:\n",
    "\n",
    "  * **.** - punkt,\n",
    "  * **o** - kółko,\n",
    "  * **x** - x,\n",
    "  * **\\+** - plus,\n",
    "  * ** \\* ** - gwiazdka,\n",
    "  * **s** - kwadraty,\n",
    "  * **d** - romb,\n",
    "  * **v** - trójkąt w dół,\n",
    "  * **^** - trójkąt w górę,\n",
    "  * **<** - trójkąt w lewo,\n",
    "  * **\\>** - trójkąt w prawo,\n",
    "  * **p** - pięciokąt,\n",
    "  * **h** - sześciokąt."
   ]
  },
  {
   "cell_type": "code",
   "execution_count": null,
   "metadata": {
    "collapsed": false
   },
   "outputs": [],
   "source": [
    "import numpy as np\n",
    "\n",
    "x = np.arange(0., 5., 0.2)\n",
    "\n",
    "plt.plot(x, x, 'r--', x, x**2, 'bs', x, x**3, 'g^')\n",
    "plt.show()"
   ]
  },
  {
   "cell_type": "code",
   "execution_count": null,
   "metadata": {
    "collapsed": false
   },
   "outputs": [],
   "source": [
    "x = [1,2,3,4]\n",
    "y = [20, 21, 20.5, 20.8]\n",
    "\n",
    "plt.plot(x, y, linestyle=\"dashed\", marker=\"o\", color=\"green\")\n",
    "\n",
    "# ustawienie granic osi X, \n",
    "plt.xlim(0.5,4.5)\n",
    "plt.ylim(19.8,21.2)\n",
    "\n",
    "plt.show()"
   ]
  },
  {
   "cell_type": "code",
   "execution_count": null,
   "metadata": {
    "collapsed": false
   },
   "outputs": [],
   "source": [
    "x = np.linspace(0, 20, 1000)\n",
    "y1 = np.sin(x)\n",
    "y2 = np.cos(x)\n",
    "\n",
    "# rozmiar czcionki\n",
    "plt.rc(\"font\", size=10)\n",
    "\n",
    "# dodanie legendy\n",
    "plt.plot(x, y1, '-b', label=r'$\\sin(x)$')\n",
    "plt.plot(x, y2, '-r', label='cosine')\n",
    "plt.legend(loc='upper right') # pozycja legendy\n",
    "# plt.legend(loc='upper left', frameon=False)\n",
    "plt.ylim(-1.5, 2.0)\n",
    "\n",
    "plt.title(\"Dwa wykresy\", size=20)\n",
    "\n",
    "plt.show()"
   ]
  },
  {
   "cell_type": "code",
   "execution_count": null,
   "metadata": {
    "collapsed": false
   },
   "outputs": [],
   "source": []
  },
  {
   "cell_type": "markdown",
   "metadata": {},
   "source": [
    "Więcej na temat wyszczególnienia obiektów na wykresie odsyłam do dokumntacji: [http://matplotlib.org/users/annotations_guide.html]\n"
   ]
  },
  {
   "cell_type": "markdown",
   "metadata": {},
   "source": [
    "#  Statystyka\n",
    "\n",
    "  * histogram:"
   ]
  },
  {
   "cell_type": "code",
   "execution_count": null,
   "metadata": {
    "collapsed": false
   },
   "outputs": [],
   "source": [
    "x = np.random.normal(size=200)\n",
    "plt.hist(x,bins=10)\n",
    "plt.show()"
   ]
  },
  {
   "cell_type": "code",
   "execution_count": null,
   "metadata": {
    "collapsed": false
   },
   "outputs": [],
   "source": [
    "import matplotlib.mlab as mlab\n",
    "\n",
    "mu = 10  \n",
    "sigma = 15 \n",
    "x = mu + sigma * np.random.randn(10000)\n",
    "\n",
    "num_bins = 30\n",
    "\n",
    "# alpha - określa przeźroczystość w skali od 0 do 1\n",
    "n, bins, patches = plt.hist(x, num_bins, normed=True, facecolor='blue', alpha=0.5)\n",
    "\n",
    "# dorysowanie wykresy gęstości na podstawie histogramu i rozkładu\n",
    "y = mlab.normpdf(bins, mu, sigma)\n",
    "plt.plot(bins, y, 'r--', linewidth=2)\n",
    "plt.ylabel('Prawdopodobienstwo')\n",
    "plt.title(r'Histogram: $\\mu=10$, $\\sigma=15$')\n",
    "\n",
    "plt.show()"
   ]
  },
  {
   "cell_type": "markdown",
   "metadata": {},
   "source": [
    "  * wykresy słupkowe"
   ]
  },
  {
   "cell_type": "code",
   "execution_count": null,
   "metadata": {
    "collapsed": false
   },
   "outputs": [],
   "source": [
    "x = [5,8,10]\n",
    "y = [12,16,6]\n",
    "\n",
    "x2 = [6,9,11]\n",
    "y2 = [6,15,7]\n",
    "\n",
    "\n",
    "plt.bar(x, y, align='center')\n",
    "\n",
    "plt.bar(x2, y2, color='r', align='edge')\n",
    "\n",
    "plt.xlabel('X')\n",
    "plt.ylabel('Y')\n",
    "\n",
    "plt.show()"
   ]
  },
  {
   "cell_type": "markdown",
   "metadata": {},
   "source": [
    "  * wykresy punktowe:"
   ]
  },
  {
   "cell_type": "code",
   "execution_count": null,
   "metadata": {
    "collapsed": false
   },
   "outputs": [],
   "source": [
    "n = 1000\n",
    "X = np.random.normal(0,1,n)\n",
    "Y = np.random.normal(0,1,n)\n",
    "\n",
    "plt.scatter(X,Y)\n",
    "plt.show()"
   ]
  },
  {
   "cell_type": "markdown",
   "metadata": {},
   "source": [
    "# Wykresy izoliniowe"
   ]
  },
  {
   "cell_type": "code",
   "execution_count": null,
   "metadata": {
    "collapsed": false
   },
   "outputs": [],
   "source": [
    "plt.close('all')\n",
    "\n",
    "delta = 0.025\n",
    "x = np.arange(-3.0, 3.0, delta)\n",
    "y = np.arange(-2.0, 2.0, delta)\n",
    "X, Y = np.meshgrid(x, y)\n",
    "\n",
    "Z1 = mlab.bivariate_normal(X, Y, 1.0, 1.0, 0.0, 0.0)\n",
    "Z2 = mlab.bivariate_normal(X, Y, 1.5, 0.5, 1, 1)\n",
    "Z = 10.0 * (Z2 - Z1)\n",
    "\n",
    "CS = plt.contour(X, Y, Z)\n",
    "plt.clabel(CS, inline=1, fontsize=10)\n",
    "\n",
    "plt.show()"
   ]
  },
  {
   "cell_type": "markdown",
   "metadata": {},
   "source": [
    "# Wykresy w 3D"
   ]
  },
  {
   "cell_type": "code",
   "execution_count": null,
   "metadata": {
    "collapsed": false
   },
   "outputs": [],
   "source": [
    "plt.close('all')\n",
    "\n",
    "%matplotlib notebook\n",
    "\n",
    "from mpl_toolkits.mplot3d import axes3d\n",
    "\n",
    "fig = plt.figure()\n",
    "ax = fig.gca(projection='3d')\n",
    "#ax = plt.subplot(projection='3d')\n",
    "\n",
    "theta = np.linspace(-4 * np.pi, 4 * np.pi, 100)\n",
    "z = np.linspace(-2, 2, 100)\n",
    "r = z**2 + 1\n",
    "x = r * np.sin(theta)\n",
    "y = r * np.cos(theta)\n",
    "ax.plot(x, y, z, label='wykres 3d')\n",
    "ax.legend()\n",
    "\n",
    "plt.show()"
   ]
  },
  {
   "cell_type": "code",
   "execution_count": null,
   "metadata": {
    "collapsed": false
   },
   "outputs": [],
   "source": [
    "plt.close('all')\n",
    "\n",
    "\n",
    "def randrange(n, vmin, vmax):\n",
    "    return (vmax - vmin)*np.random.rand(n) + vmin\n",
    "\n",
    "ax = plt.subplot(projection='3d')\n",
    "n = 100\n",
    "for c, m, zl, zh in [('r', 'o', -50, -25), ('b', '^', -30, -5)]:\n",
    "    xs = randrange(n, 23, 32)\n",
    "    ys = randrange(n, 0, 100)\n",
    "    zs = randrange(n, zl, zh)\n",
    "    ax.scatter(xs, ys, zs, c=c, marker=m)\n",
    "\n",
    "ax.set_xlabel('X')\n",
    "ax.set_ylabel('Y')\n",
    "ax.set_zlabel('Z')\n",
    "\n",
    "plt.show()"
   ]
  },
  {
   "cell_type": "markdown",
   "metadata": {},
   "source": [
    "# Zadanie 9\n",
    "\n",
    "\n",
    "## Reguła Trzech Sigm\n",
    "Reguła Trzech Sigm dla danego rozkładu normalnego $N(mean,\\sigma)$ oznacza, że w przedziale $[mean-3\\sigma,mean+3\\sigma]$ znajduje się 99.7\\% wszystkich obserwacji.\n",
    "\n",
    "Napisz program, który:\n",
    "\n",
    "  * rysuje gęstość rozkładu normalnego o zadanych parametrach $mean$ i $\\sigma$,\n",
    "  * wylicza pole pod krzywą\n",
    "  * zaznacza obszar po krzywą\n",
    "\n",
    "Policz prawdopodobieństwa:\n",
    "\n",
    "  * $P(X \\in [mean-\\sigma,mean+\\sigma])$\n",
    "  * $P(X \\in [mean-2\\sigma,mean+2\\sigma])$\n",
    "  * $P(X \\in [mean-3\\sigma,mean+3\\sigma])$\n",
    "\n"
   ]
  },
  {
   "cell_type": "code",
   "execution_count": 8,
   "metadata": {
    "collapsed": false
   },
   "outputs": [
    {
     "name": "stdout",
     "output_type": "stream",
     "text": [
      "0.682689492137086\n",
      "0.9544997361036417\n",
      "0.9973002039367399\n"
     ]
    },
    {
     "data": {
      "image/png": "[encoded data removed]",
      "text/plain": [
       "<matplotlib.figure.Figure at 0xcff0868c50>"
      ]
     },
     "metadata": {},
     "output_type": "display_data"
    }
   ],
   "source": []
  },
  {
   "cell_type": "code",
   "execution_count": null,
   "metadata": {
    "collapsed": true
   },
   "outputs": [],
   "source": []
  }
 ],
 "metadata": {
  "kernelspec": {
   "display_name": "Python 3",
   "language": "python",
   "name": "python3"
  },
  "language_info": {
   "codemirror_mode": {
    "name": "ipython",
    "version": 3
   },
   "file_extension": ".py",
   "mimetype": "text/x-python",
   "name": "python",
   "nbconvert_exporter": "python",
   "pygments_lexer": "ipython3",
   "version": "3.6.0"
  }
 },
 "nbformat": 4,
 "nbformat_minor": 2
}
